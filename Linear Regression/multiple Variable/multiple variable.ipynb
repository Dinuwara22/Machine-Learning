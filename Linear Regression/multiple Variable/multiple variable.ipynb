{
 "cells": [
  {
   "cell_type": "code",
   "execution_count": 3,
   "id": "e1f89c4b",
   "metadata": {},
   "outputs": [],
   "source": [
    "import numpy as np\n",
    "import pandas as pd\n",
    "from sklearn.linear_model import LinearRegression"
   ]
  },
  {
   "cell_type": "code",
   "execution_count": 6,
   "id": "143b5b0e",
   "metadata": {},
   "outputs": [],
   "source": [
    "data = pd.read_csv('LinearData2.csv')"
   ]
  },
  {
   "cell_type": "code",
   "execution_count": 7,
   "id": "fd519863",
   "metadata": {},
   "outputs": [
    {
     "data": {
      "text/html": [
       "<div>\n",
       "<style scoped>\n",
       "    .dataframe tbody tr th:only-of-type {\n",
       "        vertical-align: middle;\n",
       "    }\n",
       "\n",
       "    .dataframe tbody tr th {\n",
       "        vertical-align: top;\n",
       "    }\n",
       "\n",
       "    .dataframe thead th {\n",
       "        text-align: right;\n",
       "    }\n",
       "</style>\n",
       "<table border=\"1\" class=\"dataframe\">\n",
       "  <thead>\n",
       "    <tr style=\"text-align: right;\">\n",
       "      <th></th>\n",
       "      <th>Unnamed: 0</th>\n",
       "      <th>videos</th>\n",
       "      <th>days</th>\n",
       "      <th>subscribes</th>\n",
       "      <th>views</th>\n",
       "    </tr>\n",
       "  </thead>\n",
       "  <tbody>\n",
       "    <tr>\n",
       "      <th>0</th>\n",
       "      <td>channel 1</td>\n",
       "      <td>30</td>\n",
       "      <td>150</td>\n",
       "      <td>1800</td>\n",
       "      <td>34000</td>\n",
       "    </tr>\n",
       "    <tr>\n",
       "      <th>1</th>\n",
       "      <td>channel 2</td>\n",
       "      <td>40</td>\n",
       "      <td>212</td>\n",
       "      <td>950</td>\n",
       "      <td>41000</td>\n",
       "    </tr>\n",
       "    <tr>\n",
       "      <th>2</th>\n",
       "      <td>channel 3</td>\n",
       "      <td>50</td>\n",
       "      <td>179</td>\n",
       "      <td>2100</td>\n",
       "      <td>42500</td>\n",
       "    </tr>\n",
       "    <tr>\n",
       "      <th>3</th>\n",
       "      <td>channel 4</td>\n",
       "      <td>60</td>\n",
       "      <td>346</td>\n",
       "      <td>4300</td>\n",
       "      <td>54300</td>\n",
       "    </tr>\n",
       "    <tr>\n",
       "      <th>4</th>\n",
       "      <td>channel 5</td>\n",
       "      <td>70</td>\n",
       "      <td>280</td>\n",
       "      <td>4200</td>\n",
       "      <td>56000</td>\n",
       "    </tr>\n",
       "  </tbody>\n",
       "</table>\n",
       "</div>"
      ],
      "text/plain": [
       "  Unnamed: 0  videos  days  subscribes  views\n",
       "0  channel 1      30   150        1800  34000\n",
       "1  channel 2      40   212         950  41000\n",
       "2  channel 3      50   179        2100  42500\n",
       "3  channel 4      60   346        4300  54300\n",
       "4  channel 5      70   280        4200  56000"
      ]
     },
     "execution_count": 7,
     "metadata": {},
     "output_type": "execute_result"
    }
   ],
   "source": [
    "data"
   ]
  },
  {
   "cell_type": "code",
   "execution_count": 8,
   "id": "6647b183",
   "metadata": {},
   "outputs": [
    {
     "data": {
      "text/plain": [
       "LinearRegression()"
      ]
     },
     "execution_count": 8,
     "metadata": {},
     "output_type": "execute_result"
    }
   ],
   "source": [
    "#Model create\n",
    "model = LinearRegression()\n",
    "#Model training\n",
    "model.fit(data[['videos','days','subscribes']],data.views)"
   ]
  },
  {
   "cell_type": "code",
   "execution_count": 11,
   "id": "2b4e890d",
   "metadata": {
    "scrolled": true
   },
   "outputs": [
    {
     "name": "stderr",
     "output_type": "stream",
     "text": [
      "C:\\ProgramData\\Anaconda3\\lib\\site-packages\\sklearn\\base.py:450: UserWarning: X does not have valid feature names, but LinearRegression was fitted with feature names\n",
      "  warnings.warn(\n"
     ]
    },
    {
     "data": {
      "text/plain": [
       "array([37646.666912])"
      ]
     },
     "execution_count": 11,
     "metadata": {},
     "output_type": "execute_result"
    }
   ],
   "source": [
    "#Predict\n",
    "model.predict([[45,100,300]])"
   ]
  },
  {
   "cell_type": "code",
   "execution_count": 13,
   "id": "1a91cf88",
   "metadata": {},
   "outputs": [
    {
     "data": {
      "text/plain": [
       "array([ 3.99579532e+02,  4.63413146e+01, -1.12445543e-01])"
      ]
     },
     "execution_count": 13,
     "metadata": {},
     "output_type": "execute_result"
    }
   ],
   "source": [
    "#Anukramanaya (m)\n",
    "model.coef_"
   ]
  },
  {
   "cell_type": "code",
   "execution_count": 14,
   "id": "0bee27b2",
   "metadata": {},
   "outputs": [
    {
     "data": {
      "text/plain": [
       "15065.190162462732"
      ]
     },
     "execution_count": 14,
     "metadata": {},
     "output_type": "execute_result"
    }
   ],
   "source": [
    "#Anthakkandaya (C)\n",
    "model.intercept_"
   ]
  },
  {
   "cell_type": "code",
   "execution_count": 19,
   "id": "393c596e",
   "metadata": {},
   "outputs": [],
   "source": [
    "y_new = model.coef_[0]*45 + model.coef_[1]*100 + model.coef_[2]*300 + model.intercept_"
   ]
  },
  {
   "cell_type": "code",
   "execution_count": 20,
   "id": "b693299f",
   "metadata": {},
   "outputs": [
    {
     "data": {
      "text/plain": [
       "37646.666912003784"
      ]
     },
     "execution_count": 20,
     "metadata": {},
     "output_type": "execute_result"
    }
   ],
   "source": [
    "y_new"
   ]
  }
 ],
 "metadata": {
  "kernelspec": {
   "display_name": "Python 3 (ipykernel)",
   "language": "python",
   "name": "python3"
  },
  "language_info": {
   "codemirror_mode": {
    "name": "ipython",
    "version": 3
   },
   "file_extension": ".py",
   "mimetype": "text/x-python",
   "name": "python",
   "nbconvert_exporter": "python",
   "pygments_lexer": "ipython3",
   "version": "3.9.13"
  }
 },
 "nbformat": 4,
 "nbformat_minor": 5
}
